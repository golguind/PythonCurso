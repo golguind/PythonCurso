{
 "cells": [
  {
   "cell_type": "markdown",
   "metadata": {},
   "source": [
    "# Inputs and outputs\n",
    "## Outputs\n",
    "\n",
    "When a cell of a Jupyter Notebook is executed, the return value (the result) of the last statement is printed below the cell. However,\n",
    "if the last statement does not have a return value (e.g. assigning a value to a variable does not have one), there will be no\n",
    "output. \n",
    "\n",
    "Thus, working with this kind of output has two drawbacks: First, only the result of the last statement is given as output. Second, if the last statement does not have a return value, there is no output at all!\n",
    "\n",
    "Using the Python function `print()`, it is possible overcome these drawbacks. The argument within the paranthesis will be printed as output below the cell. (There will be a complete chapter about functions. Just briefly: A function consists of a function name (here *print*) followed by a pair of paranthesis. Within these paranthesis there can be one or several arguments, which are separated by commas.)"
   ]
  },
  {
   "cell_type": "code",
   "execution_count": 2,
   "metadata": {},
   "outputs": [
    {
     "name": "stdout",
     "output_type": "stream",
     "text": [
      "Hello\n",
      "42\n",
      "Joey\n"
     ]
    }
   ],
   "source": [
    "print(\"Hello\")\n",
    "print(42)\n",
    "\n",
    "name = \"Joey\"\n",
    "print(name)"
   ]
  },
  {
   "cell_type": "markdown",
   "metadata": {},
   "source": [
    "The desired output is passed to the `print()` function as an argument. It is also possible to provide multiple parameters to\n",
    "the `print` function. In this case the parameters must be separated by a comma (`,`)."
   ]
  },
  {
   "cell_type": "code",
   "execution_count": 3,
   "metadata": {},
   "outputs": [
    {
     "name": "stdout",
     "output_type": "stream",
     "text": [
      "Joey Ramone\n"
     ]
    }
   ],
   "source": [
    "name = \"Joey\"\n",
    "lastname = \"Ramone\"\n",
    "\n",
    "print(name, lastname)"
   ]
  },
  {
   "cell_type": "markdown",
   "metadata": {},
   "source": [
    "# Inputs\n",
    "Remember the exercise to calculate the surface area and volume of a cuboid? Calculating the values for a new cuboid has\n",
    "been quite tedious so far.\n",
    "\n",
    "Each time you need to:\n",
    "- Go to the cell of the notebook and change the Python program\n",
    "- Execute the cell again\n",
    "\n",
    "It would be much better if the program asked for the data to be processed as *input*. The Python program should be\n",
    "independent of specific values. The specific values should be provided as input to the program. This is the classic\n",
    "structure of a program according to the IPO principle: input → processing → output"
   ]
  },
  {
   "cell_type": "markdown",
   "metadata": {},
   "source": [
    "### The `input()` function\n",
    "\n",
    "The `input()` function can be used to read input from the user. A typical call of the function `input()` is:\n",
    "\n",
    "```python\n",
    "i = input(\"Please enter a number:\")\n",
    "print(i)\n",
    "```"
   ]
  },
  {
   "cell_type": "code",
   "execution_count": 5,
   "metadata": {},
   "outputs": [
    {
     "name": "stdout",
     "output_type": "stream",
     "text": [
      "8\n"
     ]
    }
   ],
   "source": [
    "i = input(\"Please insert a number: \")\n",
    "print(i)"
   ]
  },
  {
   "cell_type": "markdown",
   "metadata": {},
   "source": [
    "The function `input()` first outputs the given argument *(\"Please ...\")*. After that, the function waits for an input\n",
    "from the user. The user enters a value and finishes the input with the return key (enter key). The entered value is\n",
    "assigned to the variable `i`."
   ]
  },
  {
   "cell_type": "markdown",
   "metadata": {},
   "source": [
    "### Exercise\n",
    "Write a program that uses `input()` to retrieve values for first name, last name, and email address. Output the entered\n",
    "values afterwards."
   ]
  },
  {
   "cell_type": "code",
   "execution_count": 6,
   "metadata": {},
   "outputs": [
    {
     "name": "stdout",
     "output_type": "stream",
     "text": [
      "Gerardo Olguin gerardoolguin@mitzu.com\n"
     ]
    }
   ],
   "source": [
    "first_name = input(\"Please insert Name: \")\n",
    "last_name = input(\"Please insert Last Name: \")\n",
    "email = input(\"Please insert Email: \")\n",
    "print(first_name, last_name, email)"
   ]
  },
  {
   "cell_type": "markdown",
   "metadata": {},
   "source": [
    "### Exercise 2\n",
    "\n",
    "Write a program that uses `input()` to accept two numbers from a user and output the sum and the product of both numbers.\n",
    "\n",
    "Expected form of the output:\n",
    "The sum is 30.\n",
    "The product is 225."
   ]
  },
  {
   "cell_type": "code",
   "execution_count": 8,
   "metadata": {},
   "outputs": [
    {
     "name": "stdout",
     "output_type": "stream",
     "text": [
      "The sum is: 40 The product is: 375\n"
     ]
    }
   ],
   "source": [
    "number_1 = input(\"Please insert first number: \")\n",
    "number_2 = input(\"Please insert second number: \")\n",
    "suma = int(number_1) + int(number_2)\n",
    "multip = int(number_1) * int(number_2)\n",
    "\n",
    "print (\"The sum is:\",suma,\"The product is:\",multip)"
   ]
  },
  {
   "cell_type": "markdown",
   "metadata": {},
   "source": [
    "### Exercise 3\n",
    "\n",
    "Write a Python program that asks the user to enter:\n",
    "\n",
    "- A name\n",
    "- A start city\n",
    "- A destination city and\n",
    "- A means of transportation\n",
    "\n",
    "\n",
    "The program should then print that the name wants to travel from start to destination by means of transportation."
   ]
  },
  {
   "cell_type": "code",
   "execution_count": 1,
   "metadata": {},
   "outputs": [
    {
     "name": "stdout",
     "output_type": "stream",
     "text": [
      "gerardo wants to travel from df to orizaba  by carro\n"
     ]
    }
   ],
   "source": [
    "name = input(\"Please insert name: \")\n",
    "start_city = input(\"Please insert Start City: \")\n",
    "destination_city = input(\"Please insert Destination City: \")\n",
    "transportation = input(\"Please insert Transportation: \")\n",
    "\n",
    "print(name, \"wants to travel from\", start_city, \"to\", destination_city, \"by\", transportation )"
   ]
  }
 ],
 "metadata": {
  "file_extension": ".py",
  "interpreter": {
   "hash": "ac59ebe37160ed0dfa835113d9b8498d9f09ceb179beaac4002f036b9467c963"
  },
  "kernelspec": {
   "display_name": "Python 3",
   "language": "python",
   "name": "python3"
  },
  "language_info": {
   "codemirror_mode": {
    "name": "ipython",
    "version": 3
   },
   "file_extension": ".py",
   "mimetype": "text/x-python",
   "name": "python",
   "nbconvert_exporter": "python",
   "pygments_lexer": "ipython3",
   "version": "3.9.7"
  },
  "mimetype": "text/x-python",
  "name": "python",
  "npconvert_exporter": "python",
  "pygments_lexer": "ipython3",
  "version": 3
 },
 "nbformat": 4,
 "nbformat_minor": 2
}
