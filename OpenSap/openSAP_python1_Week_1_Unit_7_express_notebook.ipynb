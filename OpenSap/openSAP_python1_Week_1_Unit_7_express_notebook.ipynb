{
 "cells": [
  {
   "cell_type": "markdown",
   "metadata": {},
   "source": [
    "# Complex conditions\n",
    "As shown in the introduction to primitive data types, the operators *`and`*, *`or`* and *`not`* can be used to create\n",
    "complex expressions. Thus, these operators can be used to formulate complex conditions consisting of various\n",
    "comparisons. As always, parentheses can be used here for grouping and changing the order of evaluation. The conditions\n",
    "can be made arbitrarily complex, but will become more and more confusing with rising complexity."
   ]
  },
  {
   "cell_type": "code",
   "execution_count": null,
   "metadata": {},
   "outputs": [],
   "source": [
    "number = int(input(\"Please insert a number: \"))\n",
    "\n",
    "if (number % 3 == 0) and (number % 5 == 0):\n",
    "    print(number, \"can be divided by 3 and 5.\")"
   ]
  },
  {
   "cell_type": "code",
   "execution_count": null,
   "metadata": {},
   "outputs": [],
   "source": [
    "a = 5\n",
    "b = 8\n",
    "c = 10\n",
    "d = True\n",
    "e = False\n",
    "\n",
    "\n",
    "if a < 6 and b > 7 and c >= 10 and d and not e:\n",
    "    print(\"Wow, that was a complicated condition!\")\n",
    "\n",
    "if c == 7 or not e:\n",
    "    print(\"This one was easier...\")"
   ]
  },
  {
   "cell_type": "code",
   "execution_count": null,
   "metadata": {},
   "outputs": [],
   "source": [
    "print(False and False or True)\n",
    "print(False and (False or True))"
   ]
  },
  {
   "cell_type": "markdown",
   "metadata": {},
   "source": [
    "# Checking input\n",
    "You can use `input()` to read input from the user. The output data type of this function is always `string`. With the\n",
    "help of the functions `int()`, `bool()`... you can convert the data type. So far we have often used the following\n",
    "statement. What happens if the entered value is not convertible to a number (e.g. when entering *twenty*)?"
   ]
  },
  {
   "cell_type": "code",
   "execution_count": null,
   "metadata": {},
   "outputs": [],
   "source": [
    "number = int(input(\"Please enter a number:\"))"
   ]
  },
  {
   "cell_type": "markdown",
   "metadata": {},
   "source": [
    "In order to prevent the program from being aborted and the error message from being shown, it must be checked whether\n",
    "the input can be converted into a certain data type. For this purpose Python provides several\n",
    "[`String` methods](https://docs.python.org/3/library/stdtypes.html#string-methods) including:\n",
    "- isdecimal()\n",
    "- isalpha()\n",
    "- isspace()\n",
    "\n",
    "All these *`.issomething()`* methods return a boolean value (`True` or `False`). Thus they can be used to check if a\n",
    "string can be converted."
   ]
  },
  {
   "cell_type": "code",
   "execution_count": null,
   "metadata": {},
   "outputs": [],
   "source": [
    "number = input(\"Please insert a number: \")\n",
    "\n",
    "if number.isdigit():\n",
    "    number = int(number)\n",
    "    print(\"Very nice,\", number, \"is my favourite number.\")\n",
    "else:\n",
    "    print(\"Sorry, that was not a number!\")"
   ]
  },
  {
   "cell_type": "markdown",
   "metadata": {},
   "source": [
    "# Exercise 1\n",
    "Examine the following example (from the previous unit) and consider why the conditions were nested. Would it be possible\n",
    "to rewrite the program so that nesting is not necessary? Try it yourself..."
   ]
  },
  {
   "cell_type": "code",
   "execution_count": null,
   "metadata": {},
   "outputs": [],
   "source": [
    "temperature = int(input(\"Please insert the current temperature: \"))\n",
    "rain = True\n",
    "wind = False\n",
    "\n",
    "if temperature > 20:\n",
    "    print(\"It's warm\")\n",
    "    if rain:\n",
    "        print(\"Warm & raining: summer in Aachen\")\n",
    "        if wind:\n",
    "            print(\"It's warm, it rains and it's windy!\")\n",
    "        else:\n",
    "            print(\"Warm, raining, no wind at all\")\n",
    "    else:\n",
    "        print(\"Warm and dry, beautiful!\")\n",
    "        if wind:\n",
    "            print(\"Warm, dry and windy: Good weather for sailing\")\n",
    "        else:\n",
    "            print(\"Warm, dry, windless: Just lie in the sun\")\n",
    "else:\n",
    "    print(\"If it's cold, I don't care about rain and wind\")"
   ]
  },
  {
   "cell_type": "code",
   "execution_count": null,
   "metadata": {},
   "outputs": [],
   "source": [
    "# Start your try here..."
   ]
  },
  {
   "cell_type": "markdown",
   "metadata": {},
   "source": [
    "# Exercise 2\n",
    "As is well known, a calendar year has 365 or 366 days. According to the Gregorian calendar, a year lasts exactly\n",
    "365.2425 days, i.e. 365 days, 5 hours, 49 minutes, 12 seconds or in other words: 31,556,952 seconds. So, roughly\n",
    "speaking, a year is 1/4 of a day longer than 365 days.\n",
    "\n",
    "To correct this difference, leap days have been introduced. Every four years the 29th of February is inserted as a leap\n",
    "day. However, with this we make a new small \"mistake\" because now we have a hundredth of a day too much. For this\n",
    "reason, every 100 years - namely, if the year number is divisible by 100 - a leap day is omitted. For example, the year\n",
    "1900 was not a leap year, although it was divisible by four.\n",
    "\n",
    "Albeit this is almost sufficient, we need another adjustment every 400 years, then a leap day is inserted, although the\n",
    "year number is divisible by hundred. According to this rule, the year 2000 was a leap year for example.\n",
    "\n",
    "With these information now write a Python program that calculates whether a given year is a leap year or not."
   ]
  },
  {
   "cell_type": "code",
   "execution_count": 1,
   "metadata": {},
   "outputs": [
    {
     "data": {
      "text/plain": [
       "2"
      ]
     },
     "execution_count": 1,
     "metadata": {},
     "output_type": "execute_result"
    }
   ],
   "source": [
    "9 // 4"
   ]
  },
  {
   "cell_type": "markdown",
   "metadata": {},
   "source": [
    "### Assignment Week 1 (Part 2 - Exercise)\n",
    "\n",
    "Triangles can be classified based on their angles.\n",
    "\n",
    "- A right triangle has one angle of 90°\n",
    "- A obtuse triangle has one angle of more than 90°\n",
    "- A triangle is acute if all three angles are less than 90°\n",
    "\n",
    "Write a program that asks the user for the values of three angles in degrees. First check if the entered values are valid. The values are only valid if they are >0 and if their sum is 180°\n",
    "- If the entered values are valid, classify the triangle as right, acute or obtuse."
   ]
  },
  {
   "cell_type": "code",
   "execution_count": 10,
   "metadata": {},
   "outputs": [
    {
     "name": "stdout",
     "output_type": "stream",
     "text": [
      "Error angles must sum 180\n"
     ]
    }
   ],
   "source": [
    "first_angle = int(input(\"Please insert first angle:\"))\n",
    "second_angle = int(input(\"Please insert second angle:\"))\n",
    "third_angle = int(input(\"Please insert third angle:\"))\n",
    "\n",
    "if first_angle <= 0 or second_angle <= 0 or third_angle <= 0:\n",
    "    print(\"Error angle less 0\")\n",
    "else:\n",
    "    if (first_angle + second_angle + third_angle) != 180:\n",
    "        print(\"Error angles must sum 180\")\n",
    "    else:\n",
    "        if first_angle < 90 and second_angle < 90 and third_angle < 90:\n",
    "            triangle = \"acute\"\n",
    "        else:\n",
    "            if first_angle > 90 or second_angle > 90 or third_angle > 90:\n",
    "                triangle = \"obtuse\"\n",
    "            else:\n",
    "                if first_angle == 90 or second_angle == 90 or third_angle == 90:\n",
    "                    triangle = \"right\"\n",
    "        print(\"The triangle is:\",triangle)\n"
   ]
  },
  {
   "cell_type": "markdown",
   "metadata": {},
   "source": [
    "### Week 1: Bonus (Python_1)\n",
    "\n",
    "A quadratic equation is an equation that can be written as\n",
    "\n",
    "formula quadratic equation\n",
    "\n",
    "In this equation x represents an unknown number, and a, b, and c are representing known numbers. Possible solutions for a given quadratic equation can be calculated by the formula\n",
    "\n",
    "formula possible solutions\n",
    "\n",
    "The expression formula discriminant is called the discriminant. Using the discriminant makes it is easy to check the number of solutions for a given quadratic equation:\n",
    "\n",
    "If the discriminant is 0, the quadratic equation has exactly one real solution.\n",
    "If the discriminant is > 0, the quadratic equation has two real solutions.\n",
    "If the discriminant is < 0, the quadratic equation has two complex solutions.\n",
    "Write a program that asks the user for the numbers a, b and c. The program should then print out how many solutions the quadratic equation has."
   ]
  },
  {
   "cell_type": "code",
   "execution_count": 12,
   "metadata": {},
   "outputs": [
    {
     "name": "stdout",
     "output_type": "stream",
     "text": [
      "The quadratic equation has 2 complex solutions.\n"
     ]
    }
   ],
   "source": [
    "a = int(input(\"Please enter the value of a:\"))\n",
    "b = int(input(\"Please enter the value of b:\"))\n",
    "c = int(input(\"Please enter the value of c:\"))\n",
    "\n",
    "discriminant = (b**2) - 4 * (a*c)\n",
    "\n",
    "if discriminant == 0:\n",
    "    message = \"The quadratic equation has 1 real solution.\"\n",
    "elif discriminant > 0:\n",
    "    message = \"The quadratic equation has 2 real solutions.\"\n",
    "elif discriminant < 0:\n",
    "    message = \"The quadratic equation has 2 complex solutions.\"\n",
    "\n",
    "print(message)"
   ]
  }
 ],
 "metadata": {
  "file_extension": ".py",
  "interpreter": {
   "hash": "ac59ebe37160ed0dfa835113d9b8498d9f09ceb179beaac4002f036b9467c963"
  },
  "kernelspec": {
   "display_name": "Python 3 (ipykernel)",
   "language": "python",
   "name": "python3"
  },
  "language_info": {
   "codemirror_mode": {
    "name": "ipython",
    "version": 3
   },
   "file_extension": ".py",
   "mimetype": "text/x-python",
   "name": "python",
   "nbconvert_exporter": "python",
   "pygments_lexer": "ipython3",
   "version": "3.9.7"
  },
  "mimetype": "text/x-python",
  "name": "python",
  "npconvert_exporter": "python",
  "pygments_lexer": "ipython3",
  "version": 3
 },
 "nbformat": 4,
 "nbformat_minor": 2
}
